{
 "cells": [
  {
   "cell_type": "code",
   "execution_count": 1,
   "metadata": {},
   "outputs": [
    {
     "name": "stdout",
     "output_type": "stream",
     "text": [
      "Requirement already satisfied: opencv-python in c:\\users\\hp\\anaconda3\\lib\\site-packages (4.5.5.64)\n",
      "Requirement already satisfied: numpy>=1.19.3 in c:\\users\\hp\\anaconda3\\lib\\site-packages (from opencv-python) (1.20.3)\n"
     ]
    }
   ],
   "source": [
    "!pip3 install opencv-python\n"
   ]
  },
  {
   "cell_type": "code",
   "execution_count": 1,
   "metadata": {},
   "outputs": [
    {
     "name": "stderr",
     "output_type": "stream",
     "text": [
      "<>:13: SyntaxWarning: \"is\" with a literal. Did you mean \"==\"?\n",
      "<>:13: SyntaxWarning: \"is\" with a literal. Did you mean \"==\"?\n",
      "C:\\Users\\HP\\AppData\\Local\\Temp/ipykernel_2888/1625904834.py:13: SyntaxWarning: \"is\" with a literal. Did you mean \"==\"?\n",
      "  if faces is ():\n"
     ]
    },
    {
     "name": "stdout",
     "output_type": "stream",
     "text": [
      "enter your name:vishalini\n",
      "All samples collected for vishalini\n"
     ]
    }
   ],
   "source": [
    "import cv2\n",
    "import numpy as np\n",
    "import os\n",
    "from pathlib import Path\n",
    "\n",
    "face_class=cv2.CascadeClassifier('haarcascade_frontalface_default.xml')\n",
    "\n",
    "def crop_face(img):\n",
    "\n",
    "    gray = cv2.cvtColor(img,cv2.COLOR_BGR2GRAY)\n",
    "    faces = face_class.detectMultiScale(gray, 1.3, 5)\n",
    "    \n",
    "    if faces is ():\n",
    "        return\n",
    "    \n",
    "    for (x,y,w,h) in faces:\n",
    "        face_cropped = img[y:y+h,x:x+w]\n",
    "    \n",
    "    return face_cropped\n",
    "\n",
    "cap=cv2.VideoCapture(0)\n",
    "count=0\n",
    "\n",
    "user=input(\"enter your name:\")\n",
    "\n",
    "# Collecting 50 samples from webcam \n",
    "while True:\n",
    "\n",
    "    ret,frame=cap.read()\n",
    "    if crop_face(frame) is not None:\n",
    "        count += 1\n",
    "        face = cv2.resize(crop_face(frame), (150, 150))\n",
    "        face = cv2.cvtColor(face, cv2.COLOR_BGR2GRAY)\n",
    "        \n",
    "        #HERE = Path(__file__).parent.resolve()\n",
    "        #home = str(Path.home())\n",
    "\n",
    "        file = 'C:\\\\Users\\\\HP\\\\Desktop\\\\face_new\\\\' + user + str(count) + '.jpg'\n",
    "        #directory\n",
    "        \n",
    "        \n",
    "        cv2.imwrite(file, face)\n",
    "\n",
    "\n",
    "        cv2.putText(face, str(count), (50, 50), cv2.FONT_HERSHEY_DUPLEX, 2, (255,90,0), 2)\n",
    "        cv2.imshow('Cropped image', face)\n",
    "        \n",
    "    else:\n",
    "        pass\n",
    "\n",
    "    if cv2.waitKey(1) == 13 or count == 50:\n",
    "        break\n",
    "        \n",
    "cap.release()\n",
    "cv2.destroyAllWindows()   \n",
    "\n",
    "print(\"All samples collected for\",user)\n",
    "\n"
   ]
  },
  {
   "cell_type": "code",
   "execution_count": null,
   "metadata": {},
   "outputs": [],
   "source": []
  },
  {
   "cell_type": "code",
   "execution_count": 2,
   "metadata": {},
   "outputs": [
    {
     "name": "stdout",
     "output_type": "stream",
     "text": [
      "Model trained successfully\n"
     ]
    }
   ],
   "source": [
    "import cv2\n",
    "import numpy as np\n",
    "from os import listdir\n",
    "from os.path import isfile, join\n",
    "\n",
    "data = 'C:\\\\Users\\\\HP\\\\Desktop\\\\face_new\\\\'\n",
    "\n",
    "onlyfiles = [f for f in listdir(data) if isfile(join(data, f))]\n",
    "\n",
    "# Create empty arrays for training data and labels\n",
    "Training_Data, Labels = [], []\n",
    "\n",
    "# Create a numpy array for training data\n",
    "for i, files in enumerate(onlyfiles):\n",
    "    image_path = data + onlyfiles[i]\n",
    "    images = cv2.imread(image_path, cv2.IMREAD_GRAYSCALE)\n",
    "    Training_Data.append(np.asarray(images, dtype=np.uint8))\n",
    "    Labels.append(i)\n",
    "\n",
    "Labels = np.asarray(Labels, dtype=np.int32)\n",
    "\n",
    "model  = cv2.face_LBPHFaceRecognizer.create()\n",
    "model.train(np.asarray(Training_Data), np.asarray(Labels))#training model\n",
    "print(\"Model trained successfully\")\n",
    "\n"
   ]
  },
  {
   "cell_type": "code",
   "execution_count": null,
   "metadata": {},
   "outputs": [],
   "source": [
    "import os"
   ]
  },
  {
   "cell_type": "code",
   "execution_count": null,
   "metadata": {},
   "outputs": [],
   "source": [
    "os.getcwd()\n"
   ]
  },
  {
   "cell_type": "code",
   "execution_count": 3,
   "metadata": {},
   "outputs": [
    {
     "name": "stderr",
     "output_type": "stream",
     "text": [
      "<>:17: SyntaxWarning: \"is\" with a literal. Did you mean \"==\"?\n",
      "<>:17: SyntaxWarning: \"is\" with a literal. Did you mean \"==\"?\n",
      "C:\\Users\\HP\\AppData\\Local\\Temp/ipykernel_2888/4122295249.py:17: SyntaxWarning: \"is\" with a literal. Did you mean \"==\"?\n",
      "  if faces is ():\n"
     ]
    },
    {
     "name": "stdout",
     "output_type": "stream",
     "text": [
      "result= (11, 42.1745852508122)\n",
      "sending mail\n",
      "result= (28, 42.46823106176882)\n",
      "sending mail\n",
      "result= (11, 46.772774081431876)\n",
      "sending mail\n",
      "result= (47, 44.0853545431396)\n",
      "sending mail\n"
     ]
    }
   ],
   "source": [
    "import cv2\n",
    "import numpy as np\n",
    "import os\n",
    "import smtplib\n",
    "from email.mime.multipart import MIMEMultipart\n",
    "from email.mime.text import MIMEText\n",
    "import datetime\n",
    "mail_content='''Hello'''\n",
    "\n",
    "face_classifier=cv2.CascadeClassifier('harcascade_frontal_default.xml')\n",
    "import pywhatkit as wt\n",
    "\n",
    "def face_detector(img, size=0.5):\n",
    "    \n",
    "    gray = cv2.cvtColor(img,cv2.COLOR_BGR2GRAY)\n",
    "    faces = face_class.detectMultiScale(gray, 1.3, 5)\n",
    "    if faces is ():\n",
    "        return img, []\n",
    "    \n",
    "    for (x,y,w,h) in faces:\n",
    "        cv2.rectangle(img,(x,y),(x+w,y+h),(0,255,255),2)\n",
    "        roi = img[y:y+h, x:x+w]\n",
    "        roi = cv2.resize(roi, (200, 200))\n",
    "    return img, roi\n",
    "\n",
    "# Open Webcam\n",
    "cap = cv2.VideoCapture(0)\n",
    "\n",
    "while True:\n",
    "\n",
    "    ret, frame = cap.read()\n",
    "    image, face = face_detector(frame)\n",
    "    \n",
    "      \n",
    "    try:\n",
    "        face = cv2.cvtColor(face, cv2.COLOR_BGR2GRAY)\n",
    "        results = model.predict(face)\n",
    "        print(\"result=\",results)\n",
    "    \n",
    "        if results[1] < 500:\n",
    "            confidence = int((1 - (results[1])/400)*100 )\n",
    "            dt=str(datetime.datetime.now())\n",
    "            display= str(confidence)+'% confidence score'\n",
    "            \n",
    "        #display the confidence score\n",
    "        cv2.putText(image, display, (100, 120), cv2.FONT_HERSHEY_COMPLEX, 1, (0,255,255), 2)\n",
    "       \n",
    "        if confidence > 75:\n",
    "            cv2.putText(image,\"welcome msg\", (250, 450), cv2.FONT_HERSHEY_COMPLEX, 1, (0,255,255), 2)\n",
    "            cv2.imshow('Face Recognition', image )\n",
    "            \n",
    "            #sending mail\n",
    "            print(\"sending mail\")\n",
    "            \n",
    "            #mail information\n",
    "            sender_address=\"hemaravichandran232001@gmail.com\"\n",
    "            sender_pass=\"Hema232001@\"\n",
    "            receiver_address=\"hemaravi232001@gmail.com\"\n",
    "            \n",
    "            message=MIMEMultipart()\n",
    "            message[\"From\"]=sender_address\n",
    "            message[\"To\"]=receiver_address\n",
    "            message[\"Subject\"]=\"This is authorized user-------- \\n time {} \\n\\n person name {} \\n\\n confidence score {} \".format(dt,user,confidence)\n",
    "            \n",
    "            message.attach(MIMEText(mail_content,\"plain\"))\n",
    "            \n",
    "            server=smtplib.SMTP(\"smtp.gmail.com\",587)\n",
    "            server.starttls()\n",
    "            server.login(sender_address, sender_pass)\n",
    "            text=message.as_string()\n",
    "        \n",
    "            server.sendmail(sender_address, receiver_address, text)\n",
    "            server.quit()\n",
    "            print(\"mail sent\")\n",
    "        \n",
    "            #sending whatsapp msg\n",
    "            wt.sendwhatmsg(\"+91 9361335155\",\"hey are you there!\",15,22,2,True)\n",
    "            \n",
    "            #launching instance\n",
    "            \n",
    "            #os.system(\"aws --version\")\n",
    "            #os.system(\"aws ec2 run-instances --image-id ami-0ad704c126371a549 --count 1 --instance-type t2.micro --key-name hemaravi --security-groups  default\")\n",
    "            break\n",
    "         \n",
    "        else:\n",
    "            \n",
    "            cv2.putText(image, \"cant recognize\", (250, 450), cv2.FONT_HERSHEY_COMPLEX, 1, (0,255,255), 2)\n",
    "            cv2.imshow('Face Recognition', image )\n",
    "        print(\"working fine till here\")\n",
    "\n",
    "    except:\n",
    "        \n",
    "        pass\n",
    "        \n",
    "    if cv2.waitKey(1) == 13:\n",
    "        break\n",
    "        \n",
    "        \n",
    "cap.release()\n",
    "cv2.destroyAllWindows()     \n"
   ]
  },
  {
   "cell_type": "code",
   "execution_count": 1,
   "metadata": {},
   "outputs": [],
   "source": []
  },
  {
   "cell_type": "code",
   "execution_count": null,
   "metadata": {},
   "outputs": [],
   "source": []
  }
 ],
 "metadata": {
  "kernelspec": {
   "display_name": "Python 3 (ipykernel)",
   "language": "python",
   "name": "python3"
  },
  "language_info": {
   "codemirror_mode": {
    "name": "ipython",
    "version": 3
   },
   "file_extension": ".py",
   "mimetype": "text/x-python",
   "name": "python",
   "nbconvert_exporter": "python",
   "pygments_lexer": "ipython3",
   "version": "3.9.7"
  }
 },
 "nbformat": 4,
 "nbformat_minor": 4
}
